{
 "cells": [
  {
   "cell_type": "markdown",
   "metadata": {},
   "source": [
    "This file includes a simple use case of the module.\n",
    "\n",
    "A timed automata system is read from an xml file, an edge constraint is changed and the system is written back."
   ]
  },
  {
   "cell_type": "code",
   "execution_count": null,
   "metadata": {},
   "outputs": [],
   "source": [
    "from libta import *\n",
    "\n",
    "system = UTAP.TimedAutomataSystem() # Create a system\n",
    "parseXMLFile(\"examples/literature/CAS.xml\", system, True) # Read system from file, 0 indicates success."
   ]
  },
  {
   "cell_type": "code",
   "execution_count": null,
   "metadata": {},
   "outputs": [],
   "source": [
    "templates = system.getTemplates() # Getting templates of the system\n",
    "\n",
    "states_with_invariants = []\n",
    "\n",
    "for template in templates:\n",
    "        for state in template.states:\n",
    "                if state.invariant.getSize() > 0: # Access states which have an invariant\n",
    "                        states_with_invariants.append(state)\n",
    "                        print(\"State uid:\", state.uid) # Get state name\n",
    "                        print(\"Invariant:\", state.invariant) # Get state invariant\n",
    "                        # print(state.toString()) # Print state in a readable form"
   ]
  },
  {
   "cell_type": "code",
   "execution_count": null,
   "metadata": {},
   "outputs": [],
   "source": [
    "# Getting the edge guards of the system\n",
    "Constants = UTAP.Constants\n",
    "\n",
    "edge_guards_with_clock = []\n",
    "for template in templates:\n",
    "    for edge in template.edges:\n",
    "        if (edge.guard.usesClock()): # Add guards that uses clocks to a list\n",
    "            print(\"Source:\", edge.src.uid, \"; Dest:\", edge.dst.uid)\n",
    "            if edge.sync.getSize() > 0:\n",
    "                print(\"Edge sync:\", edge.sync)\n",
    "\n",
    "            if edge.assign.getSize() > 0:\n",
    "                print(\"Edge assign:\", edge.assign)\n",
    "                \n",
    "            edge_guards_with_clock.append(edge.guard)\n",
    "\n",
    "print(edge_guards_with_clock[0])\n",
    "if edge_guards_with_clock[0].getKind() == Constants.AND:\n",
    "    print(\"Guard has kind AND\")\n",
    "\n",
    "# Accessing subexpressions of expressions\n",
    "print(\"Guard has\", edge_guards_with_clock[0].getSize(), \"subexpressions\")\n",
    "for i in range(edge_guards_with_clock[0].getSize()):\n",
    "    print(\"Subexpression\", i, edge_guards_with_clock[0][i])"
   ]
  },
  {
   "cell_type": "code",
   "execution_count": null,
   "metadata": {},
   "outputs": [],
   "source": [
    "# Changing expression values\n",
    "position = edge_guards_with_clock[0][0][1].getPosition() # Position of the expression\n",
    "t = edge_guards_with_clock[0][0][1] # Sub-subexpression of the guard expression\n",
    "if t.getKind() == Constants.CONSTANT:\n",
    "    print(\"Const. old t=\" + str(t.getValue()))\n",
    "    #print(\"Double old t=\" + str(t.getDoubleValue()))\n",
    "\n",
    "exp = t.createConstant(100, position)\n",
    "#exp = t.createDouble(100, position) # Creating double type expression\n",
    "edge_guards_with_clock[0][0][1] = exp\n",
    "if t.getKind() == Constants.CONSTANT:\n",
    "    print(\"Const. new t=\" + str(t.getValue()))\n",
    "    #print(\"Double new t=\" + str(t.getDoubleValue()))"
   ]
  },
  {
   "cell_type": "code",
   "execution_count": null,
   "metadata": {},
   "outputs": [],
   "source": [
    "writeXMLFile(\"example.xml\", system) # Write the system back to a file, 0 indicates success."
   ]
  },
  {
   "cell_type": "markdown",
   "metadata": {},
   "source": [
    "Cells above demonstrated the basic use of the wrapper, using the functions and classes generated directly from UTAP library. For further usage please refer to its documentation. From now on, usage of some helper classes and functions that this library has for itself will be shown."
   ]
  },
  {
   "cell_type": "code",
   "execution_count": 1,
   "metadata": {},
   "outputs": [
    {
     "name": "stdout",
     "output_type": "stream",
     "text": [
      "x4 <= 14\n",
      "x4 <= 14 && x0 >= 11 && x2 <= 15\n"
     ]
    }
   ],
   "source": [
    "# Changing expression values with helper classess and functions\n",
    "from libta import *\n",
    "from libta.nta import *\n",
    "\n",
    "nta = NTAHelper(\"examples/generator/test5_6_2.xml\", \"nta\") # Get the system with helper class\n",
    "\n",
    "edge_guards_with_clock = []\n",
    "for template in nta.templates:\n",
    "\tfor edge in template.edges:\n",
    "\t\tif edge.guard.usesClock():\n",
    "\t\t\tedge_guards_with_clock.append(edge.guard)\n",
    "\n",
    "exp_list = get_expression_list(edge_guards_with_clock[4])\n",
    "print(exp_list[0].toString())\n",
    "print(edge_guards_with_clock[4].toString())"
   ]
  },
  {
   "cell_type": "code",
   "execution_count": 2,
   "metadata": {},
   "outputs": [
    {
     "name": "stdout",
     "output_type": "stream",
     "text": [
      "x4 <= 100\n",
      "x4 <= 100 && x0 >= 11 && x2 <= 15\n"
     ]
    }
   ],
   "source": [
    "change_expression_value(exp_list[0], 100)\n",
    "print(exp_list[0].toString())\n",
    "print(edge_guards_with_clock[4].toString()) # Changes in the expression objects are reflected to all its instances except its deep clones"
   ]
  },
  {
   "cell_type": "code",
   "execution_count": 3,
   "metadata": {},
   "outputs": [
    {
     "name": "stdout",
     "output_type": "stream",
     "text": [
      "[<cppyy.gbl.UTAP.state_t object at 0x563e0e726c20>, <cppyy.gbl.UTAP.edge_t object at 0x563e0d9f2c58>, <cppyy.gbl.UTAP.edge_t object at 0x563e0d9f2cf0>, <cppyy.gbl.UTAP.edge_t object at 0x563e0d9ed7a0>, <cppyy.gbl.UTAP.edge_t object at 0x563e0d9ed838>, <cppyy.gbl.UTAP.edge_t object at 0x563e0d9ed8d0>, <cppyy.gbl.UTAP.edge_t object at 0x563e0d7ac0a0>]\n",
      "[]\n"
     ]
    }
   ],
   "source": [
    "from libta.path_analysis import *\n",
    "\n",
    "# Construct a path from string labels of the states\n",
    "# The resulting path is a list of the edges between states, with its first element being the initial state of the path.\n",
    "# If no such edge is found, an empty list is returned.\n",
    "path = [\"l2\", \"l3\", \"l4\", \"l5\", \"l6\", \"l7\", \"l1\"]\n",
    "path = construct_path_from_labels(path, nta.templates[0])\n",
    "print(path)\n",
    "\n",
    "path_wrong = [\"l2\", \"l3\", \"l4\", \"l5\", \"l6\", \"l1\"]\n",
    "path_wrong = construct_path_from_labels(path, nta.templates[0])\n",
    "print(path_wrong)"
   ]
  },
  {
   "cell_type": "code",
   "execution_count": 4,
   "metadata": {},
   "outputs": [
    {
     "name": "stdout",
     "output_type": "stream",
     "text": [
      "From: l2 \tto: (location) l3\n",
      "From: l3 \tto: (location) l4\n",
      "From: l4 \tto: (location) l5\n",
      "From: l5 \tto: (location) l6\n",
      "From: l6 \tto: (location) l7\n",
      "From: l7 \tto: (location) l1\n",
      "True\n",
      "{b'x3', b'x0', b'x1', b'x2', b'x4'}\n"
     ]
    }
   ],
   "source": [
    "for edge in path[1:]:\n",
    "        # State objects, (e.g. edge.dst) has unique uids, and they can be compared or printed directly\n",
    "        # symbol.getName() can be used to get the string label of the symbol, in this case the state uid\n",
    "        print(\"From:\", edge.src.uid.getName(), \"\\tto:\", edge.dst.uid)\n",
    "\n",
    "print(path_exists(path))\n",
    "print(find_used_clocks(path[1:])) # find_used_clocks takes the edge list as its argument"
   ]
  },
  {
   "cell_type": "code",
   "execution_count": 5,
   "metadata": {},
   "outputs": [
    {
     "name": "stdout",
     "output_type": "stream",
     "text": [
      "[1, 0] <= 5\n",
      "[1, 0] <= 3\n",
      "[-1, -1] <= -100\n",
      "\\ Generated by MPModelProtoExporter\n",
      "\\   Name             : \n",
      "\\   Format           : Free\n",
      "\\   Constraints      : 3\n",
      "\\   Variables        : 2\n",
      "\\     Binary         : 0\n",
      "\\     Integer        : 2\n",
      "\\     Continuous     : 0\n",
      "Minimize\n",
      " Obj: \n",
      "Subject to\n",
      " auto_c_000000000: +1 x[0]  <= 5\n",
      " auto_c_000000001: +1 x[0]  <= 3\n",
      " auto_c_000000002: -1 x[0] -1 x[1]  <= -100\n",
      "Bounds\n",
      " 0 <= x[0] <= inf\n",
      " 0 <= x[1] <= inf\n",
      "Generals\n",
      " x[0]\n",
      " x[1]\n",
      "End\n",
      "\n"
     ]
    },
    {
     "data": {
      "text/plain": [
       "(True, [3.0, 97.0])"
      ]
     },
     "execution_count": 5,
     "metadata": {},
     "output_type": "execute_result"
    }
   ],
   "source": [
    "nta = NTAHelper(\"tests/testcases/path_realizable/test26.xml\", \"nta1\")\n",
    "path = construct_path_from_labels([\"l0\", \"l1\", \"l2\"], nta.templates[0]) # Construct a path from string labels of the states\n",
    "# Check if the path is realizable, with the options of no initial clock valuations, \n",
    "# and printing the constraint matrices and created LP problem\n",
    "is_path_realizable(path, None, True, True)"
   ]
  },
  {
   "cell_type": "code",
   "execution_count": null,
   "metadata": {},
   "outputs": [],
   "source": [
    "nta.writeToXML()"
   ]
  }
 ],
 "metadata": {
  "interpreter": {
   "hash": "e7370f93d1d0cde622a1f8e1c04877d8463912d04d973331ad4851f04de6915a"
  },
  "kernelspec": {
   "display_name": "Python 3.10.4 64-bit",
   "language": "python",
   "name": "python3"
  },
  "language_info": {
   "codemirror_mode": {
    "name": "ipython",
    "version": 3
   },
   "file_extension": ".py",
   "mimetype": "text/x-python",
   "name": "python",
   "nbconvert_exporter": "python",
   "pygments_lexer": "ipython3",
   "version": "3.10.5"
  },
  "orig_nbformat": 4
 },
 "nbformat": 4,
 "nbformat_minor": 2
}
